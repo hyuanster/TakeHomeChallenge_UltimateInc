{
 "cells": [
  {
   "cell_type": "code",
   "execution_count": 1087,
   "id": "4cbd4dc5",
   "metadata": {},
   "outputs": [],
   "source": [
    "import numpy as np\n",
    "import pandas as pd\n",
    "import matplotlib.pyplot as plt\n",
    "import json\n",
    "from datetime import datetime"
   ]
  },
  {
   "cell_type": "markdown",
   "id": "cf6d3da4",
   "metadata": {},
   "source": [
    "# Part 1"
   ]
  },
  {
   "cell_type": "code",
   "execution_count": 1088,
   "id": "ed13cf0c",
   "metadata": {},
   "outputs": [],
   "source": [
    "file_path = './ultimate_challenge/logins.json'"
   ]
  },
  {
   "cell_type": "code",
   "execution_count": 1089,
   "id": "51a8dc1d",
   "metadata": {},
   "outputs": [],
   "source": [
    "logins = pd.read_json(file_path)"
   ]
  },
  {
   "cell_type": "code",
   "execution_count": 1090,
   "id": "b9c61d2a",
   "metadata": {},
   "outputs": [
    {
     "data": {
      "text/html": [
       "<div>\n",
       "<style scoped>\n",
       "    .dataframe tbody tr th:only-of-type {\n",
       "        vertical-align: middle;\n",
       "    }\n",
       "\n",
       "    .dataframe tbody tr th {\n",
       "        vertical-align: top;\n",
       "    }\n",
       "\n",
       "    .dataframe thead th {\n",
       "        text-align: right;\n",
       "    }\n",
       "</style>\n",
       "<table border=\"1\" class=\"dataframe\">\n",
       "  <thead>\n",
       "    <tr style=\"text-align: right;\">\n",
       "      <th></th>\n",
       "      <th>login_time</th>\n",
       "    </tr>\n",
       "  </thead>\n",
       "  <tbody>\n",
       "    <tr>\n",
       "      <th>0</th>\n",
       "      <td>1970-01-01 20:13:18</td>\n",
       "    </tr>\n",
       "    <tr>\n",
       "      <th>1</th>\n",
       "      <td>1970-01-01 20:16:10</td>\n",
       "    </tr>\n",
       "    <tr>\n",
       "      <th>2</th>\n",
       "      <td>1970-01-01 20:16:37</td>\n",
       "    </tr>\n",
       "    <tr>\n",
       "      <th>3</th>\n",
       "      <td>1970-01-01 20:16:36</td>\n",
       "    </tr>\n",
       "    <tr>\n",
       "      <th>4</th>\n",
       "      <td>1970-01-01 20:26:21</td>\n",
       "    </tr>\n",
       "  </tbody>\n",
       "</table>\n",
       "</div>"
      ],
      "text/plain": [
       "           login_time\n",
       "0 1970-01-01 20:13:18\n",
       "1 1970-01-01 20:16:10\n",
       "2 1970-01-01 20:16:37\n",
       "3 1970-01-01 20:16:36\n",
       "4 1970-01-01 20:26:21"
      ]
     },
     "execution_count": 1090,
     "metadata": {},
     "output_type": "execute_result"
    }
   ],
   "source": [
    "logins.head()"
   ]
  },
  {
   "cell_type": "code",
   "execution_count": 1091,
   "id": "925b9b8c",
   "metadata": {},
   "outputs": [
    {
     "name": "stdout",
     "output_type": "stream",
     "text": [
      "<class 'pandas.core.frame.DataFrame'>\n",
      "RangeIndex: 93142 entries, 0 to 93141\n",
      "Data columns (total 1 columns):\n",
      " #   Column      Non-Null Count  Dtype         \n",
      "---  ------      --------------  -----         \n",
      " 0   login_time  93142 non-null  datetime64[ns]\n",
      "dtypes: datetime64[ns](1)\n",
      "memory usage: 727.8 KB\n"
     ]
    }
   ],
   "source": [
    "logins.info()"
   ]
  },
  {
   "cell_type": "code",
   "execution_count": 1092,
   "id": "d2c99413",
   "metadata": {},
   "outputs": [
    {
     "data": {
      "text/plain": [
       "login_time    0\n",
       "dtype: int64"
      ]
     },
     "execution_count": 1092,
     "metadata": {},
     "output_type": "execute_result"
    }
   ],
   "source": [
    "logins.isnull().sum()"
   ]
  },
  {
   "cell_type": "markdown",
   "id": "c4398c0b",
   "metadata": {},
   "source": [
    "There are no null values"
   ]
  },
  {
   "cell_type": "markdown",
   "id": "989366d0",
   "metadata": {},
   "source": [
    "Count login times for invervals of 15 minutes"
   ]
  },
  {
   "cell_type": "code",
   "execution_count": 1093,
   "id": "fcefc5cd",
   "metadata": {},
   "outputs": [],
   "source": [
    "logins['count'] = 1\n",
    "logins.set_index('login_time', inplace=True)\n",
    "count_15m = logins[['count']].resample('15min').sum()"
   ]
  },
  {
   "cell_type": "code",
   "execution_count": 1094,
   "id": "cc57cb42",
   "metadata": {},
   "outputs": [
    {
     "data": {
      "text/html": [
       "<div>\n",
       "<style scoped>\n",
       "    .dataframe tbody tr th:only-of-type {\n",
       "        vertical-align: middle;\n",
       "    }\n",
       "\n",
       "    .dataframe tbody tr th {\n",
       "        vertical-align: top;\n",
       "    }\n",
       "\n",
       "    .dataframe thead th {\n",
       "        text-align: right;\n",
       "    }\n",
       "</style>\n",
       "<table border=\"1\" class=\"dataframe\">\n",
       "  <thead>\n",
       "    <tr style=\"text-align: right;\">\n",
       "      <th></th>\n",
       "      <th>count</th>\n",
       "    </tr>\n",
       "    <tr>\n",
       "      <th>login_time</th>\n",
       "      <th></th>\n",
       "    </tr>\n",
       "  </thead>\n",
       "  <tbody>\n",
       "    <tr>\n",
       "      <th>1970-01-01 20:00:00</th>\n",
       "      <td>2</td>\n",
       "    </tr>\n",
       "    <tr>\n",
       "      <th>1970-01-01 20:15:00</th>\n",
       "      <td>6</td>\n",
       "    </tr>\n",
       "    <tr>\n",
       "      <th>1970-01-01 20:30:00</th>\n",
       "      <td>9</td>\n",
       "    </tr>\n",
       "    <tr>\n",
       "      <th>1970-01-01 20:45:00</th>\n",
       "      <td>7</td>\n",
       "    </tr>\n",
       "    <tr>\n",
       "      <th>1970-01-01 21:00:00</th>\n",
       "      <td>1</td>\n",
       "    </tr>\n",
       "  </tbody>\n",
       "</table>\n",
       "</div>"
      ],
      "text/plain": [
       "                     count\n",
       "login_time                \n",
       "1970-01-01 20:00:00      2\n",
       "1970-01-01 20:15:00      6\n",
       "1970-01-01 20:30:00      9\n",
       "1970-01-01 20:45:00      7\n",
       "1970-01-01 21:00:00      1"
      ]
     },
     "execution_count": 1094,
     "metadata": {},
     "output_type": "execute_result"
    }
   ],
   "source": [
    "count_15m.head()"
   ]
  },
  {
   "cell_type": "code",
   "execution_count": 1095,
   "id": "da01d081",
   "metadata": {},
   "outputs": [
    {
     "data": {
      "text/html": [
       "<div>\n",
       "<style scoped>\n",
       "    .dataframe tbody tr th:only-of-type {\n",
       "        vertical-align: middle;\n",
       "    }\n",
       "\n",
       "    .dataframe tbody tr th {\n",
       "        vertical-align: top;\n",
       "    }\n",
       "\n",
       "    .dataframe thead th {\n",
       "        text-align: right;\n",
       "    }\n",
       "</style>\n",
       "<table border=\"1\" class=\"dataframe\">\n",
       "  <thead>\n",
       "    <tr style=\"text-align: right;\">\n",
       "      <th></th>\n",
       "      <th>count</th>\n",
       "    </tr>\n",
       "  </thead>\n",
       "  <tbody>\n",
       "    <tr>\n",
       "      <th>count</th>\n",
       "      <td>9788.000000</td>\n",
       "    </tr>\n",
       "    <tr>\n",
       "      <th>mean</th>\n",
       "      <td>9.515938</td>\n",
       "    </tr>\n",
       "    <tr>\n",
       "      <th>std</th>\n",
       "      <td>8.328818</td>\n",
       "    </tr>\n",
       "    <tr>\n",
       "      <th>min</th>\n",
       "      <td>0.000000</td>\n",
       "    </tr>\n",
       "    <tr>\n",
       "      <th>25%</th>\n",
       "      <td>3.000000</td>\n",
       "    </tr>\n",
       "    <tr>\n",
       "      <th>50%</th>\n",
       "      <td>7.000000</td>\n",
       "    </tr>\n",
       "    <tr>\n",
       "      <th>75%</th>\n",
       "      <td>13.000000</td>\n",
       "    </tr>\n",
       "    <tr>\n",
       "      <th>max</th>\n",
       "      <td>73.000000</td>\n",
       "    </tr>\n",
       "  </tbody>\n",
       "</table>\n",
       "</div>"
      ],
      "text/plain": [
       "             count\n",
       "count  9788.000000\n",
       "mean      9.515938\n",
       "std       8.328818\n",
       "min       0.000000\n",
       "25%       3.000000\n",
       "50%       7.000000\n",
       "75%      13.000000\n",
       "max      73.000000"
      ]
     },
     "execution_count": 1095,
     "metadata": {},
     "output_type": "execute_result"
    }
   ],
   "source": [
    "count_15m.describe()"
   ]
  },
  {
   "cell_type": "code",
   "execution_count": 1096,
   "id": "d2c36b04",
   "metadata": {},
   "outputs": [
    {
     "data": {
      "text/plain": [
       "(array([  1200,  44640,  84960, 129600, 148005], dtype=int64),\n",
       " [Text(0, 0, ''),\n",
       "  Text(0, 0, ''),\n",
       "  Text(0, 0, ''),\n",
       "  Text(0, 0, ''),\n",
       "  Text(0, 0, '')])"
      ]
     },
     "execution_count": 1096,
     "metadata": {},
     "output_type": "execute_result"
    },
    {
     "data": {
      "image/png": "[encoded data removed]",
      "text/plain": [
       "<Figure size 720x360 with 1 Axes>"
      ]
     },
     "metadata": {
      "needs_background": "light"
     },
     "output_type": "display_data"
    }
   ],
   "source": [
    "count_15m.plot(figsize=(10,5))\n",
    "plt.xticks()\n",
    "plt.title('# of logins', fontsize=18)\n",
    "plt.xlabel('Day & Time', fontsize=15)\n",
    "plt.ylabel('Login count', fontsize=15)\n",
    "plt.xticks(fontsize=14)"
   ]
  },
  {
   "cell_type": "code",
   "execution_count": 1097,
   "id": "a830e589",
   "metadata": {},
   "outputs": [
    {
     "data": {
      "text/plain": [
       "(array([12960, 20145], dtype=int64), [Text(0, 0, ''), Text(0, 0, '')])"
      ]
     },
     "execution_count": 1097,
     "metadata": {},
     "output_type": "execute_result"
    },
    {
     "data": {
      "image/png": "[encoded data removed]",
      "text/plain": [
       "<Figure size 720x360 with 1 Axes>"
      ]
     },
     "metadata": {
      "needs_background": "light"
     },
     "output_type": "display_data"
    }
   ],
   "source": [
    "count_15m['1970-01-10':'1970-01-14'].plot(figsize=(10,5))\n",
    "plt.title('# of logins', fontsize=18)\n",
    "plt.xlabel('Day & Time', fontsize=15)\n",
    "plt.ylabel('Login count', fontsize=15)\n",
    "plt.xticks(fontsize=14)"
   ]
  },
  {
   "cell_type": "markdown",
   "id": "b85b206a",
   "metadata": {},
   "source": [
    "### The plots show there is a pattern that there are two login peak times each day: mid of the day and at night ###"
   ]
  },
  {
   "cell_type": "code",
   "execution_count": 1098,
   "id": "be4bae3a",
   "metadata": {},
   "outputs": [],
   "source": [
    "count_15m['date_time'] = count_15m.index"
   ]
  },
  {
   "cell_type": "code",
   "execution_count": 1099,
   "id": "5b89934a",
   "metadata": {},
   "outputs": [],
   "source": [
    "count_15m['day_of_week'] = count_15m['date_time'].dt.day_name()"
   ]
  },
  {
   "cell_type": "code",
   "execution_count": 1100,
   "id": "0015289d",
   "metadata": {},
   "outputs": [
    {
     "data": {
      "text/plain": [
       "day_of_week\n",
       "Friday       15208\n",
       "Monday        8823\n",
       "Saturday     19377\n",
       "Sunday       18167\n",
       "Thursday     11960\n",
       "Tuesday       9268\n",
       "Wednesday    10339\n",
       "Name: count, dtype: int64"
      ]
     },
     "execution_count": 1100,
     "metadata": {},
     "output_type": "execute_result"
    }
   ],
   "source": [
    "count_dayofweek = count_15m.groupby('day_of_week')['count'].sum()\n",
    "count_dayofweek"
   ]
  },
  {
   "cell_type": "code",
   "execution_count": 1101,
   "id": "5589f3ec",
   "metadata": {},
   "outputs": [
    {
     "data": {
      "text/plain": [
       "([0, 1, 2, 3, 4, 5, 6],\n",
       " [Text(0, 0, ''),\n",
       "  Text(0, 0, ''),\n",
       "  Text(0, 0, ''),\n",
       "  Text(0, 0, ''),\n",
       "  Text(0, 0, ''),\n",
       "  Text(0, 0, ''),\n",
       "  Text(0, 0, '')])"
      ]
     },
     "execution_count": 1101,
     "metadata": {},
     "output_type": "execute_result"
    },
    {
     "data": {
      "image/png": "[encoded data removed]",
      "text/plain": [
       "<Figure size 720x360 with 1 Axes>"
      ]
     },
     "metadata": {
      "needs_background": "light"
     },
     "output_type": "display_data"
    }
   ],
   "source": [
    "fig = plt.subplots(figsize=(10,5))\n",
    "plt.bar(x=count_dayofweek.index, height=count_dayofweek)\n",
    "plt.title('# of logins for different day of the week', fontsize=18)\n",
    "plt.xlabel('Day of week', fontsize=15)\n",
    "plt.ylabel('Login count', fontsize=15)\n",
    "plt.xticks(fontsize=14)"
   ]
  },
  {
   "cell_type": "markdown",
   "id": "59882b9f",
   "metadata": {},
   "source": [
    "### This plot shows that the weekend dates (Saturday, Sunday and Friday) have higher login frequency than the weekdays. ###"
   ]
  },
  {
   "cell_type": "markdown",
   "id": "49bec7fc",
   "metadata": {},
   "source": [
    "# Part 2"
   ]
  },
  {
   "cell_type": "markdown",
   "id": "7a495f24",
   "metadata": {},
   "source": [
    "### Question 1\n",
    "1) What would you choose as the key measure of success of this experiment in\n",
    "encouraging driver partners to serve both cities, and why would you choose this metric?"
   ]
  },
  {
   "cell_type": "markdown",
   "id": "a84eb509",
   "metadata": {},
   "source": [
    "I would use the number of times that the drive partners cross the tollgates as a measurement of the effectiveness of the new change. The reason is because the drivers will pass the tollgate more frequently if they like the idea of toll reimbursement."
   ]
  },
  {
   "cell_type": "markdown",
   "id": "71e568b4",
   "metadata": {},
   "source": [
    "### Question 2\n",
    "Describe a practical experiment you would design to compare the effectiveness of the\n",
    "proposed change in relation to the key measure of success. Please provide details on:\n",
    "\n",
    "a) how you will implement the experiment"
   ]
  },
  {
   "cell_type": "markdown",
   "id": "37d473ff",
   "metadata": {},
   "source": [
    "1. Randomly choose a group of driver partners from these two city, say 100 drivers.\n",
    "2. For each of these 100 drivers, count how many times he or she crosses the tollgate within 30 days before and after the reimbursement policy.\n",
    "3. We will compare the change in the traveling frequency before and after."
   ]
  },
  {
   "cell_type": "markdown",
   "id": "ce15c917",
   "metadata": {},
   "source": [
    "b) what statistical test(s) you will conduct to verify the significance of the\n",
    "observation"
   ]
  },
  {
   "cell_type": "markdown",
   "id": "2925745f",
   "metadata": {},
   "source": [
    "Use a one sided paired T test. For the same groups of drivers, we have a count of bridge crossing before and after the new policy for each driver.\n",
    "We can calculate the change for each driver, and calculate the mean of the change over the entire group.\n",
    "The null hypothesis H0 is there is no change in the average number before and after, or, in another word, the average change in the entire sample is 0.\n",
    "The alternative hypothesis is that the average counts after the policy is in place is greater than before, or, in another word, the average change after the policy is greater than 0.\n",
    "We will calculate the p value of this t-test to draw a conclusion about the effectiveness of the new policy."
   ]
  },
  {
   "cell_type": "markdown",
   "id": "ca9f5121",
   "metadata": {},
   "source": [
    "c) how you would interpret the results and provide recommendations to the city\n",
    "operations team along with any caveats."
   ]
  },
  {
   "cell_type": "markdown",
   "id": "071be355",
   "metadata": {},
   "source": [
    "1. If the p value is less than 0.05, the null hypothesis will be rejected, meaning there is sufficient change in traveling frequecy between the two cities to state that the toll reimbursement policy is effective. We would recommend to the city operations team to put the new policy in execution.\n",
    "2. If p value is greater than 0.05, we can not prove the new policy is effective. In this case we would recommend the operation teams to consider more incentives to the driver partners or bring in some other changes."
   ]
  },
  {
   "cell_type": "markdown",
   "id": "542881ad",
   "metadata": {},
   "source": [
    "The caveats are:\n",
    "1. The sample may not be large enough\n",
    "2. The observation peroid of 30 days may not be long enough\n",
    "3. We must make sure all drivers in the sample are active before and after the toll reimbursement policy (eg: no health issues or other factors cause a driver to be out of work for some days)"
   ]
  },
  {
   "cell_type": "markdown",
   "id": "a3b8dca9",
   "metadata": {},
   "source": [
    "# Part 3"
   ]
  },
  {
   "cell_type": "code",
   "execution_count": 1102,
   "id": "e167542e",
   "metadata": {},
   "outputs": [],
   "source": [
    "from datetime import datetime, timedelta\n",
    "import seaborn as sns\n",
    "from sklearn.preprocessing import LabelEncoder"
   ]
  },
  {
   "cell_type": "code",
   "execution_count": 1103,
   "id": "3cfdd042",
   "metadata": {},
   "outputs": [],
   "source": [
    "file_path = './ultimate_challenge/ultimate_data_challenge.json'"
   ]
  },
  {
   "cell_type": "code",
   "execution_count": 1104,
   "id": "e6731725",
   "metadata": {},
   "outputs": [
    {
     "data": {
      "text/html": [
       "<div>\n",
       "<style scoped>\n",
       "    .dataframe tbody tr th:only-of-type {\n",
       "        vertical-align: middle;\n",
       "    }\n",
       "\n",
       "    .dataframe tbody tr th {\n",
       "        vertical-align: top;\n",
       "    }\n",
       "\n",
       "    .dataframe thead th {\n",
       "        text-align: right;\n",
       "    }\n",
       "</style>\n",
       "<table border=\"1\" class=\"dataframe\">\n",
       "  <thead>\n",
       "    <tr style=\"text-align: right;\">\n",
       "      <th></th>\n",
       "      <th>city</th>\n",
       "      <th>trips_in_first_30_days</th>\n",
       "      <th>signup_date</th>\n",
       "      <th>avg_rating_of_driver</th>\n",
       "      <th>avg_surge</th>\n",
       "      <th>last_trip_date</th>\n",
       "      <th>phone</th>\n",
       "      <th>surge_pct</th>\n",
       "      <th>ultimate_black_user</th>\n",
       "      <th>weekday_pct</th>\n",
       "      <th>avg_dist</th>\n",
       "      <th>avg_rating_by_driver</th>\n",
       "    </tr>\n",
       "  </thead>\n",
       "  <tbody>\n",
       "    <tr>\n",
       "      <th>0</th>\n",
       "      <td>King's Landing</td>\n",
       "      <td>4</td>\n",
       "      <td>2014-01-25</td>\n",
       "      <td>4.7</td>\n",
       "      <td>1.10</td>\n",
       "      <td>2014-06-17</td>\n",
       "      <td>iPhone</td>\n",
       "      <td>15.4</td>\n",
       "      <td>True</td>\n",
       "      <td>46.2</td>\n",
       "      <td>3.67</td>\n",
       "      <td>5.0</td>\n",
       "    </tr>\n",
       "    <tr>\n",
       "      <th>1</th>\n",
       "      <td>Astapor</td>\n",
       "      <td>0</td>\n",
       "      <td>2014-01-29</td>\n",
       "      <td>5.0</td>\n",
       "      <td>1.00</td>\n",
       "      <td>2014-05-05</td>\n",
       "      <td>Android</td>\n",
       "      <td>0.0</td>\n",
       "      <td>False</td>\n",
       "      <td>50.0</td>\n",
       "      <td>8.26</td>\n",
       "      <td>5.0</td>\n",
       "    </tr>\n",
       "    <tr>\n",
       "      <th>2</th>\n",
       "      <td>Astapor</td>\n",
       "      <td>3</td>\n",
       "      <td>2014-01-06</td>\n",
       "      <td>4.3</td>\n",
       "      <td>1.00</td>\n",
       "      <td>2014-01-07</td>\n",
       "      <td>iPhone</td>\n",
       "      <td>0.0</td>\n",
       "      <td>False</td>\n",
       "      <td>100.0</td>\n",
       "      <td>0.77</td>\n",
       "      <td>5.0</td>\n",
       "    </tr>\n",
       "    <tr>\n",
       "      <th>3</th>\n",
       "      <td>King's Landing</td>\n",
       "      <td>9</td>\n",
       "      <td>2014-01-10</td>\n",
       "      <td>4.6</td>\n",
       "      <td>1.14</td>\n",
       "      <td>2014-06-29</td>\n",
       "      <td>iPhone</td>\n",
       "      <td>20.0</td>\n",
       "      <td>True</td>\n",
       "      <td>80.0</td>\n",
       "      <td>2.36</td>\n",
       "      <td>4.9</td>\n",
       "    </tr>\n",
       "    <tr>\n",
       "      <th>4</th>\n",
       "      <td>Winterfell</td>\n",
       "      <td>14</td>\n",
       "      <td>2014-01-27</td>\n",
       "      <td>4.4</td>\n",
       "      <td>1.19</td>\n",
       "      <td>2014-03-15</td>\n",
       "      <td>Android</td>\n",
       "      <td>11.8</td>\n",
       "      <td>False</td>\n",
       "      <td>82.4</td>\n",
       "      <td>3.13</td>\n",
       "      <td>4.9</td>\n",
       "    </tr>\n",
       "  </tbody>\n",
       "</table>\n",
       "</div>"
      ],
      "text/plain": [
       "             city  trips_in_first_30_days signup_date  avg_rating_of_driver  \\\n",
       "0  King's Landing                       4  2014-01-25                   4.7   \n",
       "1         Astapor                       0  2014-01-29                   5.0   \n",
       "2         Astapor                       3  2014-01-06                   4.3   \n",
       "3  King's Landing                       9  2014-01-10                   4.6   \n",
       "4      Winterfell                      14  2014-01-27                   4.4   \n",
       "\n",
       "   avg_surge last_trip_date    phone  surge_pct  ultimate_black_user  \\\n",
       "0       1.10     2014-06-17   iPhone       15.4                 True   \n",
       "1       1.00     2014-05-05  Android        0.0                False   \n",
       "2       1.00     2014-01-07   iPhone        0.0                False   \n",
       "3       1.14     2014-06-29   iPhone       20.0                 True   \n",
       "4       1.19     2014-03-15  Android       11.8                False   \n",
       "\n",
       "   weekday_pct  avg_dist  avg_rating_by_driver  \n",
       "0         46.2      3.67                   5.0  \n",
       "1         50.0      8.26                   5.0  \n",
       "2        100.0      0.77                   5.0  \n",
       "3         80.0      2.36                   4.9  \n",
       "4         82.4      3.13                   4.9  "
      ]
     },
     "execution_count": 1104,
     "metadata": {},
     "output_type": "execute_result"
    }
   ],
   "source": [
    "data = pd.read_json(file_path)\n",
    "data.head()"
   ]
  },
  {
   "cell_type": "markdown",
   "id": "6469e751",
   "metadata": {},
   "source": [
    "## 1. EDA and pre-processing"
   ]
  },
  {
   "cell_type": "code",
   "execution_count": 1105,
   "id": "8fd5977b",
   "metadata": {},
   "outputs": [
    {
     "data": {
      "text/plain": [
       "city                         0\n",
       "trips_in_first_30_days       0\n",
       "signup_date                  0\n",
       "avg_rating_of_driver      8122\n",
       "avg_surge                    0\n",
       "last_trip_date               0\n",
       "phone                      396\n",
       "surge_pct                    0\n",
       "ultimate_black_user          0\n",
       "weekday_pct                  0\n",
       "avg_dist                     0\n",
       "avg_rating_by_driver       201\n",
       "dtype: int64"
      ]
     },
     "execution_count": 1105,
     "metadata": {},
     "output_type": "execute_result"
    }
   ],
   "source": [
    "data.isnull().sum()"
   ]
  },
  {
   "cell_type": "code",
   "execution_count": 1106,
   "id": "a95f84da",
   "metadata": {},
   "outputs": [
    {
     "name": "stdout",
     "output_type": "stream",
     "text": [
      "<class 'pandas.core.frame.DataFrame'>\n",
      "RangeIndex: 50000 entries, 0 to 49999\n",
      "Data columns (total 12 columns):\n",
      " #   Column                  Non-Null Count  Dtype  \n",
      "---  ------                  --------------  -----  \n",
      " 0   city                    50000 non-null  object \n",
      " 1   trips_in_first_30_days  50000 non-null  int64  \n",
      " 2   signup_date             50000 non-null  object \n",
      " 3   avg_rating_of_driver    41878 non-null  float64\n",
      " 4   avg_surge               50000 non-null  float64\n",
      " 5   last_trip_date          50000 non-null  object \n",
      " 6   phone                   49604 non-null  object \n",
      " 7   surge_pct               50000 non-null  float64\n",
      " 8   ultimate_black_user     50000 non-null  bool   \n",
      " 9   weekday_pct             50000 non-null  float64\n",
      " 10  avg_dist                50000 non-null  float64\n",
      " 11  avg_rating_by_driver    49799 non-null  float64\n",
      "dtypes: bool(1), float64(6), int64(1), object(4)\n",
      "memory usage: 4.2+ MB\n"
     ]
    }
   ],
   "source": [
    "data.info()"
   ]
  },
  {
   "cell_type": "markdown",
   "id": "3fd39733",
   "metadata": {},
   "source": [
    "We need to take care of the null data in three features before modeling. \n",
    "\n",
    "Let's first calculate the portion of active users. To do this, we first need to conver the two dates features from string objects to datetime objects."
   ]
  },
  {
   "cell_type": "code",
   "execution_count": 1107,
   "id": "b387a444",
   "metadata": {},
   "outputs": [],
   "source": [
    "#change the two dates columns to datetime type\n",
    "fmt = '%Y-%m-%d'\n",
    "data['signup_date_dt'] = pd.to_datetime(data.signup_date, format=fmt)\n",
    "data['last_trip_date_dt'] = pd.to_datetime(data.last_trip_date, format=fmt)\n",
    "data.drop(['signup_date', 'last_trip_date'], axis=1, inplace=True)"
   ]
  },
  {
   "cell_type": "markdown",
   "id": "78a3c3fa",
   "metadata": {},
   "source": [
    "Now let's calculate the percentage of retained users. All users signed up in January, so June is the 6th months. The data was pulled at July 1st. So the active or retained users are the ones that took the last trip in June (or within 30 days before July 1st)."
   ]
  },
  {
   "cell_type": "code",
   "execution_count": 1108,
   "id": "02937857",
   "metadata": {},
   "outputs": [
    {
     "name": "stdout",
     "output_type": "stream",
     "text": [
      "The portion of user retained is  0.376\n"
     ]
    }
   ],
   "source": [
    "data['active'] = np.int8(data['last_trip_date_dt'] >= (data.last_trip_date_dt.max() - timedelta(days=30)))\n",
    "print('The portion of user retained is ', np.round(data.active.sum()/data.shape[0],3))"
   ]
  },
  {
   "cell_type": "markdown",
   "id": "3cabda8e",
   "metadata": {},
   "source": [
    "### Handle the missing data."
   ]
  },
  {
   "cell_type": "code",
   "execution_count": 1109,
   "id": "6637be04",
   "metadata": {},
   "outputs": [],
   "source": [
    "data['avg_rating_of_driver'].fillna(data['avg_rating_of_driver'].mean(), inplace=True)\n",
    "data['avg_rating_by_driver'].fillna(data['avg_rating_by_driver'].mean(), inplace=True)"
   ]
  },
  {
   "cell_type": "code",
   "execution_count": 1110,
   "id": "7727ae20",
   "metadata": {},
   "outputs": [
    {
     "data": {
      "text/plain": [
       "(array([0, 1]), [Text(0, 0, 'iPhone'), Text(1, 0, 'Android')])"
      ]
     },
     "execution_count": 1110,
     "metadata": {},
     "output_type": "execute_result"
    },
    {
     "data": {
      "image/png": "[encoded data removed]",
      "text/plain": [
       "<Figure size 432x288 with 1 Axes>"
      ]
     },
     "metadata": {
      "needs_background": "light"
     },
     "output_type": "display_data"
    }
   ],
   "source": [
    "data.phone.value_counts().plot(kind='bar')\n",
    "plt.xticks(rotation=0)"
   ]
  },
  {
   "cell_type": "code",
   "execution_count": 1111,
   "id": "c79a89fe",
   "metadata": {},
   "outputs": [],
   "source": [
    "data['phone'].fillna('iPhone', inplace=True)"
   ]
  },
  {
   "cell_type": "code",
   "execution_count": 1112,
   "id": "182e07a9",
   "metadata": {
    "scrolled": false
   },
   "outputs": [
    {
     "name": "stdout",
     "output_type": "stream",
     "text": [
      "<class 'pandas.core.frame.DataFrame'>\n",
      "RangeIndex: 50000 entries, 0 to 49999\n",
      "Data columns (total 13 columns):\n",
      " #   Column                  Non-Null Count  Dtype         \n",
      "---  ------                  --------------  -----         \n",
      " 0   city                    50000 non-null  object        \n",
      " 1   trips_in_first_30_days  50000 non-null  int64         \n",
      " 2   avg_rating_of_driver    50000 non-null  float64       \n",
      " 3   avg_surge               50000 non-null  float64       \n",
      " 4   phone                   50000 non-null  object        \n",
      " 5   surge_pct               50000 non-null  float64       \n",
      " 6   ultimate_black_user     50000 non-null  bool          \n",
      " 7   weekday_pct             50000 non-null  float64       \n",
      " 8   avg_dist                50000 non-null  float64       \n",
      " 9   avg_rating_by_driver    50000 non-null  float64       \n",
      " 10  signup_date_dt          50000 non-null  datetime64[ns]\n",
      " 11  last_trip_date_dt       50000 non-null  datetime64[ns]\n",
      " 12  active                  50000 non-null  int8          \n",
      "dtypes: bool(1), datetime64[ns](2), float64(6), int64(1), int8(1), object(2)\n",
      "memory usage: 4.3+ MB\n"
     ]
    }
   ],
   "source": [
    "data.info()"
   ]
  },
  {
   "cell_type": "markdown",
   "id": "1a6619bd",
   "metadata": {},
   "source": [
    "### Convert categorical features to integers"
   ]
  },
  {
   "cell_type": "markdown",
   "id": "02817eb9",
   "metadata": {},
   "source": [
    "Encode the categorial columns of 'city' and 'phone'. Convert the boolean column 'ultimate_black_user' to integer"
   ]
  },
  {
   "cell_type": "code",
   "execution_count": 1113,
   "id": "ba263750",
   "metadata": {},
   "outputs": [],
   "source": [
    "lbl_encoder_city = LabelEncoder()\n",
    "data['city'] = lbl_encoder_city.fit_transform(data.city)\n",
    "\n",
    "lbl_encoder_phone = LabelEncoder()\n",
    "data['phone'] = lbl_encoder_phone.fit_transform(data.phone)"
   ]
  },
  {
   "cell_type": "code",
   "execution_count": 1114,
   "id": "05a47369",
   "metadata": {},
   "outputs": [],
   "source": [
    "data['ultimate_black_user'] = np.int8(data['ultimate_black_user'])"
   ]
  },
  {
   "cell_type": "markdown",
   "id": "30cd9e8e",
   "metadata": {},
   "source": [
    "### Features selection"
   ]
  },
  {
   "cell_type": "code",
   "execution_count": 1115,
   "id": "7c3fe47c",
   "metadata": {},
   "outputs": [
    {
     "data": {
      "text/plain": [
       "<AxesSubplot:>"
      ]
     },
     "execution_count": 1115,
     "metadata": {},
     "output_type": "execute_result"
    },
    {
     "data": {
      "image/png": "[encoded data removed]",
      "text/plain": [
       "<Figure size 432x288 with 2 Axes>"
      ]
     },
     "metadata": {
      "needs_background": "light"
     },
     "output_type": "display_data"
    }
   ],
   "source": [
    "sns.heatmap(abs(data.corr()), vmin=0, vmax=0.2)"
   ]
  },
  {
   "cell_type": "markdown",
   "id": "5a556f6f",
   "metadata": {},
   "source": [
    "All users signed up in January, therefore the signup_date is not supposed to be relevant to user's activeness. \n",
    "\n",
    "Since activeness is calculated with last_trip_date, we should drop the column of last_trip_date.\n",
    "\n",
    "From the heatmap, we see that features 'avg_surge', 'surge_pct', 'avg_rating_of_driver', avg_rating_by_driver', 'weekday_pct' all have little correlation with user activeness. Therefore we can drop these features.\n",
    "\n"
   ]
  },
  {
   "cell_type": "code",
   "execution_count": 1116,
   "id": "c5528290",
   "metadata": {},
   "outputs": [],
   "source": [
    "data.drop(['signup_date_dt', 'last_trip_date_dt', 'surge_pct', 'avg_rating_of_driver', 'avg_surge', 'weekday_pct', 'avg_rating_by_driver'], axis=1, inplace=True)"
   ]
  },
  {
   "cell_type": "code",
   "execution_count": 1117,
   "id": "d87d432f",
   "metadata": {},
   "outputs": [
    {
     "name": "stdout",
     "output_type": "stream",
     "text": [
      "<class 'pandas.core.frame.DataFrame'>\n",
      "RangeIndex: 50000 entries, 0 to 49999\n",
      "Data columns (total 6 columns):\n",
      " #   Column                  Non-Null Count  Dtype  \n",
      "---  ------                  --------------  -----  \n",
      " 0   city                    50000 non-null  int32  \n",
      " 1   trips_in_first_30_days  50000 non-null  int64  \n",
      " 2   phone                   50000 non-null  int32  \n",
      " 3   ultimate_black_user     50000 non-null  int8   \n",
      " 4   avg_dist                50000 non-null  float64\n",
      " 5   active                  50000 non-null  int8   \n",
      "dtypes: float64(1), int32(2), int64(1), int8(2)\n",
      "memory usage: 1.2 MB\n"
     ]
    }
   ],
   "source": [
    "data.info()"
   ]
  },
  {
   "cell_type": "code",
   "execution_count": 1118,
   "id": "02dfdfea",
   "metadata": {},
   "outputs": [
    {
     "data": {
      "text/plain": [
       "<AxesSubplot:>"
      ]
     },
     "execution_count": 1118,
     "metadata": {},
     "output_type": "execute_result"
    },
    {
     "data": {
      "image/png": "[encoded data removed]",
      "text/plain": [
       "<Figure size 432x288 with 2 Axes>"
      ]
     },
     "metadata": {
      "needs_background": "light"
     },
     "output_type": "display_data"
    }
   ],
   "source": [
    "sns.heatmap(abs(data.corr()), vmin=0, vmax=0.5)"
   ]
  },
  {
   "cell_type": "markdown",
   "id": "1c3ec228",
   "metadata": {},
   "source": [
    "### Explore the influence of differnt features on the users' activeness"
   ]
  },
  {
   "cell_type": "markdown",
   "id": "48f99932",
   "metadata": {},
   "source": [
    "feature \"city\""
   ]
  },
  {
   "cell_type": "code",
   "execution_count": 1119,
   "id": "dbedac4e",
   "metadata": {},
   "outputs": [
    {
     "name": "stdout",
     "output_type": "stream",
     "text": [
      "Portion of active users for different cities:\n",
      "Astapor: 0.26\n",
      "King's Landing: 0.63\n",
      "Winterfell: 0.35\n"
     ]
    }
   ],
   "source": [
    "city = lbl_encoder_city.classes_\n",
    "print('Portion of active users for different cities:')\n",
    "for i in range(0, len(city)):\n",
    "    active = data[data['city'] == i]['active'].sum()\n",
    "    print('{}: {}'.format(city[i], np.round(active/(data[data['city']==i].shape[0]),2)))"
   ]
  },
  {
   "cell_type": "markdown",
   "id": "a2197dc1",
   "metadata": {},
   "source": [
    "feature 'phone'"
   ]
  },
  {
   "cell_type": "code",
   "execution_count": 1120,
   "id": "518115b6",
   "metadata": {},
   "outputs": [
    {
     "name": "stdout",
     "output_type": "stream",
     "text": [
      "Portion of active users for different phone types:\n",
      "Android: 0.21\n",
      "iPhone: 0.45\n"
     ]
    }
   ],
   "source": [
    "phone = lbl_encoder_phone.classes_\n",
    "print('Portion of active users for different phone types:')\n",
    "for i in range(0, len(phone)):\n",
    "    active = data[data['phone'] == i]['active'].sum()\n",
    "    print('{}: {}'.format(phone[i], np.round(active/(data[data['phone']==i].shape[0]),2)))"
   ]
  },
  {
   "cell_type": "markdown",
   "id": "50bda07a",
   "metadata": {},
   "source": [
    "feature 'ultimate_black_user'"
   ]
  },
  {
   "cell_type": "code",
   "execution_count": 1121,
   "id": "f507ed91",
   "metadata": {
    "scrolled": true
   },
   "outputs": [
    {
     "name": "stdout",
     "output_type": "stream",
     "text": [
      "Portion of active users for ultimate black user:\n",
      "non-ultimate_black_user: 0.3\n",
      "ultimate_black_user: 0.5\n"
     ]
    }
   ],
   "source": [
    "print('Portion of active users for ultimate black user:')\n",
    "black=['non-ultimate_black_user', 'ultimate_black_user']\n",
    "for i in range(0, 2):\n",
    "    active = data[data['ultimate_black_user'] == i]['active'].sum()\n",
    "    print('{}: {}'.format(black[i], np.round(active/(data[data['ultimate_black_user']==i].shape[0]),2)))"
   ]
  },
  {
   "cell_type": "markdown",
   "id": "e1b4fc9b",
   "metadata": {},
   "source": [
    "#### These exploration confirms that these features do have implace on user's activeness."
   ]
  },
  {
   "cell_type": "code",
   "execution_count": null,
   "id": "8813c097",
   "metadata": {},
   "outputs": [],
   "source": []
  },
  {
   "cell_type": "markdown",
   "id": "eac83114",
   "metadata": {},
   "source": [
    "### Data scaling"
   ]
  },
  {
   "cell_type": "code",
   "execution_count": 1122,
   "id": "20c0e61a",
   "metadata": {},
   "outputs": [
    {
     "data": {
      "image/png": "[encoded data removed]",
      "text/plain": [
       "<Figure size 720x576 with 6 Axes>"
      ]
     },
     "metadata": {
      "needs_background": "light"
     },
     "output_type": "display_data"
    }
   ],
   "source": [
    "data.hist(figsize=(10,8))\n",
    "plt.show()"
   ]
  },
  {
   "cell_type": "code",
   "execution_count": 1123,
   "id": "51c93ff0",
   "metadata": {},
   "outputs": [],
   "source": [
    "from sklearn.preprocessing import StandardScaler, MinMaxScaler\n",
    "from sklearn.model_selection import train_test_split"
   ]
  },
  {
   "cell_type": "code",
   "execution_count": 1124,
   "id": "46dca2cc",
   "metadata": {},
   "outputs": [],
   "source": [
    "X = data.drop(['active'],axis=1)\n",
    "y = data.active\n",
    "X_train, X_test, y_train, y_test = train_test_split(X, y, test_size=0.33, random_state=22,stratify=y)"
   ]
  },
  {
   "cell_type": "markdown",
   "id": "9e1b0787",
   "metadata": {},
   "source": [
    "None of the features has normal distribution. Therefore we should use Min-max scaler for scaling.\n",
    "\n",
    "We fit the scaler using X_train, and apply the scaler to X_test"
   ]
  },
  {
   "cell_type": "code",
   "execution_count": 1125,
   "id": "e1c04c67",
   "metadata": {},
   "outputs": [],
   "source": [
    "scaler = MinMaxScaler()\n",
    "scaler.fit(X_train)\n",
    "X_train = scaler.transform(X_train)\n",
    "X_test = scaler.transform(X_test)"
   ]
  },
  {
   "cell_type": "markdown",
   "id": "dc8865a1",
   "metadata": {},
   "source": [
    "## 2. Modeling"
   ]
  },
  {
   "cell_type": "markdown",
   "id": "bab4c59d",
   "metadata": {},
   "source": [
    "This is a binary classification problem. We will test three types of models: Logistic Regression, Random Forest and Adaboost. We will user grid search and cross-valiation to get the optimal and reliabel parameters.\n",
    "\n",
    "Evaluation: we will use accuracy and F1 score to evaluate the model performance. For this particular project, we are trying to predict whether a user will churn. For this particular prediction, we should minimze false positive (y_true=0, y_pred=1), in another word, we should try to avoid predicting a user to stay but in fact the user leaves."
   ]
  },
  {
   "cell_type": "code",
   "execution_count": 1126,
   "id": "dcd4fded",
   "metadata": {},
   "outputs": [],
   "source": [
    "from sklearn.ensemble import RandomForestClassifier\n",
    "from sklearn.metrics import classification_report\n",
    "from sklearn.neighbors import KNeighborsClassifier\n",
    "from sklearn.model_selection import cross_validate, GridSearchCV, cross_val_score\n",
    "from sklearn.metrics import classification_report, confusion_matrix\n",
    "from sklearn.svm import SVC"
   ]
  },
  {
   "cell_type": "markdown",
   "id": "782362b5",
   "metadata": {},
   "source": [
    "### 2.1 Logistic Regression"
   ]
  },
  {
   "cell_type": "code",
   "execution_count": 1127,
   "id": "3bf64e7c",
   "metadata": {},
   "outputs": [],
   "source": [
    "from sklearn.linear_model import LogisticRegression"
   ]
  },
  {
   "cell_type": "code",
   "execution_count": 1128,
   "id": "14f070a3",
   "metadata": {},
   "outputs": [
    {
     "name": "stdout",
     "output_type": "stream",
     "text": [
      "Confusion matrix: \n",
      "[[8808 1487]\n",
      " [3661 2544]]\n"
     ]
    }
   ],
   "source": [
    "# Instantiate model\n",
    "lr1 = LogisticRegression(penalty='l2') # instantiate logreg w/ l1 regularization\n",
    "lr1.fit(X_train, y_train)\n",
    "y_test_pred1 = model.predict(X_test)\n",
    "\n",
    "# Generate confusion matrix\n",
    "print('Confusion matrix: ')\n",
    "print(confusion_matrix(y_test, y_test_pred1))"
   ]
  },
  {
   "cell_type": "code",
   "execution_count": 1129,
   "id": "47134804",
   "metadata": {},
   "outputs": [
    {
     "name": "stdout",
     "output_type": "stream",
     "text": [
      "[[8805 1490]\n",
      " [3654 2551]]\n",
      "              precision    recall  f1-score   support\n",
      "\n",
      "           0       0.71      0.86      0.77     10295\n",
      "           1       0.63      0.41      0.50      6205\n",
      "\n",
      "    accuracy                           0.69     16500\n",
      "   macro avg       0.67      0.63      0.64     16500\n",
      "weighted avg       0.68      0.69      0.67     16500\n",
      "\n"
     ]
    }
   ],
   "source": [
    "lr2 = LogisticRegression(penalty='l1', solver='saga')\n",
    "lr2.fit(X_train, y_train)\n",
    "y_test_pred2 = lr.predict(X_test)\n",
    "print(confusion_matrix(y_test, pred))\n",
    "print(classification_report(y_test, y_test_pred2))"
   ]
  },
  {
   "cell_type": "markdown",
   "id": "3ad8b728",
   "metadata": {},
   "source": [
    "These two models give similar results. But the accuracy is low and there are a lot of false positives.\n",
    "\n",
    "We can check the accuracy on the training set and see if there is overfit. We get similar numbers, so there is no overfit here."
   ]
  },
  {
   "cell_type": "code",
   "execution_count": 1130,
   "id": "9ff56cf9",
   "metadata": {},
   "outputs": [
    {
     "name": "stdout",
     "output_type": "stream",
     "text": [
      "[[17973  2928]\n",
      " [ 7267  5332]]\n",
      "              precision    recall  f1-score   support\n",
      "\n",
      "           0       0.71      0.86      0.78     20901\n",
      "           1       0.65      0.42      0.51     12599\n",
      "\n",
      "    accuracy                           0.70     33500\n",
      "   macro avg       0.68      0.64      0.65     33500\n",
      "weighted avg       0.69      0.70      0.68     33500\n",
      "\n"
     ]
    }
   ],
   "source": [
    "y_train_pred = lr1.predict(X_train)\n",
    "print(confusion_matrix(y_train, y_train_pred))\n",
    "print(classification_report(y_train, y_train_pred))"
   ]
  },
  {
   "cell_type": "markdown",
   "id": "c9fa7561",
   "metadata": {},
   "source": [
    "### Feature importance suggested by Logistic Regression model"
   ]
  },
  {
   "cell_type": "code",
   "execution_count": 1131,
   "id": "d0d9d5e4",
   "metadata": {},
   "outputs": [
    {
     "data": {
      "image/png": "[encoded data removed]",
      "text/plain": [
       "<Figure size 576x360 with 1 Axes>"
      ]
     },
     "metadata": {
      "needs_background": "light"
     },
     "output_type": "display_data"
    }
   ],
   "source": [
    "coef = lr1.coef_.flatten().tolist()\n",
    "features = data.columns.drop(['active'])\n",
    "plt.subplots(figsize=(8,5))\n",
    "plt.bar(x=features.tolist(), height=coef)\n",
    "plt.title('Feature coefficients from the Logistic Regression model')\n",
    "plt.xticks(rotation = 60)\n",
    "plt.show()"
   ]
  },
  {
   "cell_type": "markdown",
   "id": "799fbc03",
   "metadata": {},
   "source": [
    "The order of importance given by the Logistic Regression model is: \n",
    "\n",
    "trips_in_first_30_days -> avg_dist -> phone -> ultimate_black_user -> city"
   ]
  },
  {
   "cell_type": "markdown",
   "id": "187cb346",
   "metadata": {},
   "source": [
    "### 2.2 Random Forest"
   ]
  },
  {
   "cell_type": "markdown",
   "id": "361a1e96",
   "metadata": {},
   "source": [
    "Use GridSearchCV to model with different combinations of parameters."
   ]
  },
  {
   "cell_type": "code",
   "execution_count": 1132,
   "id": "a3e585e6",
   "metadata": {},
   "outputs": [],
   "source": [
    "rf = RandomForestClassifier(random_state=42, min_samples_split=100)\n",
    "nEstimators=[10,20,30,40,50]\n",
    "maxDepth=[3,4,5,6,7,8]\n",
    "params = {\"n_estimators\": nEstimators, \n",
    "          \"max_depth\": maxDepth}\n",
    "clf = GridSearchCV(rf, param_grid=params, cv=5)"
   ]
  },
  {
   "cell_type": "code",
   "execution_count": 1133,
   "id": "d7b2f933",
   "metadata": {
    "scrolled": true
   },
   "outputs": [
    {
     "name": "stdout",
     "output_type": "stream",
     "text": [
      "              precision    recall  f1-score   support\n",
      "\n",
      "           0       0.75      0.85      0.80     10295\n",
      "           1       0.68      0.53      0.60      6205\n",
      "\n",
      "    accuracy                           0.73     16500\n",
      "   macro avg       0.72      0.69      0.70     16500\n",
      "weighted avg       0.72      0.73      0.72     16500\n",
      "\n"
     ]
    }
   ],
   "source": [
    "clf.fit(X_train, y_train)\n",
    "y_test_pred = clf.best_estimator_.predict(X_test)\n",
    "print(classification_report(y_test, y_test_pred))"
   ]
  },
  {
   "cell_type": "code",
   "execution_count": 1134,
   "id": "24b5ef74",
   "metadata": {},
   "outputs": [
    {
     "data": {
      "text/plain": [
       "{'max_depth': 8, 'n_estimators': 40}"
      ]
     },
     "execution_count": 1134,
     "metadata": {},
     "output_type": "execute_result"
    }
   ],
   "source": [
    "clf.best_params_"
   ]
  },
  {
   "cell_type": "code",
   "execution_count": 1135,
   "id": "d932154a",
   "metadata": {},
   "outputs": [
    {
     "name": "stdout",
     "output_type": "stream",
     "text": [
      "[[8733 1562]\n",
      " [2886 3319]]\n"
     ]
    }
   ],
   "source": [
    "print(confusion_matrix(y_test, y_test_pred))"
   ]
  },
  {
   "cell_type": "markdown",
   "id": "6a9a17d3",
   "metadata": {},
   "source": [
    "The accuracy is better than the Logistic Regression models. The number of false positive is less but there is still a lot of them.\n",
    "\n",
    "We can plot the feature importance suggested by the Random Forest model."
   ]
  },
  {
   "cell_type": "code",
   "execution_count": 1136,
   "id": "106e9ead",
   "metadata": {},
   "outputs": [
    {
     "data": {
      "text/plain": [
       "RandomForestClassifier(max_depth=8, min_samples_split=100, n_estimators=40,\n",
       "                       random_state=42)"
      ]
     },
     "execution_count": 1136,
     "metadata": {},
     "output_type": "execute_result"
    }
   ],
   "source": [
    "rf = RandomForestClassifier(random_state=42, min_samples_split=100, max_depth=8, n_estimators=40)\n",
    "rf.fit(X_train, y_train)"
   ]
  },
  {
   "cell_type": "code",
   "execution_count": 1137,
   "id": "f1f9d5e0",
   "metadata": {},
   "outputs": [
    {
     "data": {
      "image/png": "[encoded data removed]",
      "text/plain": [
       "<Figure size 432x288 with 1 Axes>"
      ]
     },
     "metadata": {
      "needs_background": "light"
     },
     "output_type": "display_data"
    }
   ],
   "source": [
    "plt.subplots(figsize=(6,4))\n",
    "plt.bar(x=features.tolist(), height=rf.feature_importances_)\n",
    "plt.xticks(rotation = 90)\n",
    "plt.title('Feature importance from the Random Forest model')\n",
    "plt.show()"
   ]
  },
  {
   "cell_type": "markdown",
   "id": "72c5082b",
   "metadata": {},
   "source": [
    "The order of feature importance implied by the Random Forest model is:\n",
    "\n",
    "trips_in_first_30_days -> city -> phone -> avg_dist -> ultimate_black_user"
   ]
  },
  {
   "cell_type": "markdown",
   "id": "d4cc79de",
   "metadata": {},
   "source": [
    "### 2.3 Adaboost"
   ]
  },
  {
   "cell_type": "code",
   "execution_count": 1138,
   "id": "e7d7aeb8",
   "metadata": {},
   "outputs": [
    {
     "data": {
      "text/plain": [
       "GridSearchCV(cv=5, estimator=AdaBoostClassifier(random_state=99),\n",
       "             param_grid={'learning_rate': [0.1, 1.0, 10],\n",
       "                         'n_estimators': [10, 20, 30, 40, 50]})"
      ]
     },
     "execution_count": 1138,
     "metadata": {},
     "output_type": "execute_result"
    }
   ],
   "source": [
    "from sklearn.ensemble import AdaBoostClassifier\n",
    "\n",
    "ada = AdaBoostClassifier(random_state=99)\n",
    "nEstimators=[10,20,30,40,50]\n",
    "learning_rate=[0.1,1.0,10]\n",
    "params = {\"n_estimators\": nEstimators,\n",
    "         'learning_rate': learning_rate}\n",
    "clf = GridSearchCV(ada, param_grid=params, cv=5)\n",
    "\n",
    "clf.fit(X_train, y_train)"
   ]
  },
  {
   "cell_type": "code",
   "execution_count": 1139,
   "id": "63af02e1",
   "metadata": {},
   "outputs": [
    {
     "name": "stdout",
     "output_type": "stream",
     "text": [
      "              precision    recall  f1-score   support\n",
      "\n",
      "           0       0.75      0.84      0.79     10295\n",
      "           1       0.67      0.53      0.59      6205\n",
      "\n",
      "    accuracy                           0.72     16500\n",
      "   macro avg       0.71      0.69      0.69     16500\n",
      "weighted avg       0.72      0.72      0.72     16500\n",
      "\n",
      "[[8684 1611]\n",
      " [2935 3270]]\n"
     ]
    }
   ],
   "source": [
    "y_test_pred = clf.best_estimator_.predict(X_test)\n",
    "print(classification_report(y_test, y_test_pred))\n",
    "print(confusion_matrix(y_test, y_test_pred))"
   ]
  },
  {
   "cell_type": "code",
   "execution_count": 1140,
   "id": "dedd5e79",
   "metadata": {},
   "outputs": [
    {
     "data": {
      "text/plain": [
       "{'learning_rate': 1.0, 'n_estimators': 50}"
      ]
     },
     "execution_count": 1140,
     "metadata": {},
     "output_type": "execute_result"
    }
   ],
   "source": [
    "clf.best_params_"
   ]
  },
  {
   "cell_type": "code",
   "execution_count": 1141,
   "id": "fa8fdb80",
   "metadata": {},
   "outputs": [
    {
     "data": {
      "text/plain": [
       "AdaBoostClassifier(random_state=99)"
      ]
     },
     "execution_count": 1141,
     "metadata": {},
     "output_type": "execute_result"
    }
   ],
   "source": [
    "ada = AdaBoostClassifier(random_state=99, learning_rate=1.0, n_estimators=50)\n",
    "ada.fit(X_train, y_train)"
   ]
  },
  {
   "cell_type": "code",
   "execution_count": 1142,
   "id": "ea073830",
   "metadata": {},
   "outputs": [
    {
     "data": {
      "image/png": "[encoded data removed]",
      "text/plain": [
       "<Figure size 432x288 with 1 Axes>"
      ]
     },
     "metadata": {
      "needs_background": "light"
     },
     "output_type": "display_data"
    }
   ],
   "source": [
    "plt.subplots(figsize=(6,4))\n",
    "plt.bar(x=features.tolist(), height=ada.feature_importances_)\n",
    "plt.title('Feature importance from the Adaboost model')\n",
    "plt.xticks(rotation = 90)\n",
    "plt.show()"
   ]
  },
  {
   "cell_type": "markdown",
   "id": "54271f8a",
   "metadata": {},
   "source": [
    "The Adaboost model has very similar performance as the Random Forest model.\n",
    "\n",
    "The order of feature importance implied by the Adaboost model is:\n",
    "\n",
    "avg_dist -> trips_in_first_30_days -> city -> ultimate_black_user -> phone "
   ]
  },
  {
   "cell_type": "markdown",
   "id": "3fca200e",
   "metadata": {},
   "source": [
    "# 3. Summary"
   ]
  },
  {
   "cell_type": "markdown",
   "id": "73493a4f",
   "metadata": {},
   "source": [
    "#### Among the three types of models, Random Forest seems to be the best. \n",
    "#### Order of feature importance"
   ]
  },
  {
   "cell_type": "markdown",
   "id": "4e899592",
   "metadata": {},
   "source": [
    "\n",
    "2. The models suggest \"trips_in_first_30_days\" is the most important feature that has positive influence on user's activeness. It means a frequent rider tends to stay. \n",
    "3. \"avg_dis\" is the second important feature but it has a negative influence. Longer distance cost more, and users who rider longer distance tend to take less rides and therefore are more likely to become inactive when we use 30 days to define active/inactive.\n",
    "4. Phone type surprisingly has influence on whether users churn. iPhone users tend to stays more likely than Android users. The reason might be that iPhones are more expensive than Android phones and iPhone users are more willing to spend money on rides.\n",
    "5. City is another feature that has impact on whether a user churns. Users who signed up in King's Landing seem to more likely to stay. The reason might be that residents in this city has higher income or some other reasons."
   ]
  },
  {
   "cell_type": "markdown",
   "id": "d40d9a6f",
   "metadata": {},
   "source": [
    "#### Concerns\n",
    "\n",
    "The modeling accuracy is still not great with a significant number of false positives. This may have to do with the imbalanced active ratio."
   ]
  },
  {
   "cell_type": "markdown",
   "id": "b3a8f463",
   "metadata": {},
   "source": [
    "# 4. Recommendations"
   ]
  },
  {
   "cell_type": "markdown",
   "id": "c39203a7",
   "metadata": {},
   "source": [
    "1. Provide more incentives to the users in the first 30 days.\n",
    "2. Maybe give some discounts on long distance rides so users who take long distance rides tend to stay.\n",
    "3. Encourage more iPhone users to sign up.\n",
    "4. Encourage more users from King's Landing to sign up.\n"
   ]
  },
  {
   "cell_type": "code",
   "execution_count": null,
   "id": "9e74ab31",
   "metadata": {},
   "outputs": [],
   "source": []
  }
 ],
 "metadata": {
  "kernelspec": {
   "display_name": "Python 3 (ipykernel)",
   "language": "python",
   "name": "python3"
  },
  "language_info": {
   "codemirror_mode": {
    "name": "ipython",
    "version": 3
   },
   "file_extension": ".py",
   "mimetype": "text/x-python",
   "name": "python",
   "nbconvert_exporter": "python",
   "pygments_lexer": "ipython3",
   "version": "3.10.4"
  }
 },
 "nbformat": 4,
 "nbformat_minor": 5
}
